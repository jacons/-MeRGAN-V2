{
 "cells": [
  {
   "cell_type": "code",
   "execution_count": 2,
   "outputs": [],
   "source": [
    "from Trainer import Trainer\n",
    "from Utils import custom_mnist,plot_mnist_eval\n",
    "import  torch\n",
    "%reload_ext autoreload\n",
    "%autoreload 2\n",
    "\n",
    "#experiences = [[0],[1],[2],[3],[4],[5],[6],[7],[8],[9]] # one digit a time\n",
    "experiences = [[0,1,2,3,4,5,6,7,8,9]] # classical offline learning\n",
    "\n",
    "config = dict(\n",
    "    device=\"cuda\" if torch.cuda.is_available() else \"cpu\",\n",
    "    num_classes=10,\n",
    "    img_size=32,\n",
    "    embedding=100,\n",
    "\n",
    "    n_epochs=10,\n",
    "    lr_g=0.0002,\n",
    "    lr_d=0.0002\n",
    ")\n",
    "\n",
    "trainer = Trainer(config=config)\n",
    "history = trainer.fit_classic(experiences=custom_mnist(experiences = experiences),\n",
    "                              batch_size=64,\n",
    "                              epch_expr=True)"
   ],
   "metadata": {
    "collapsed": false
   }
  },
  {
   "cell_type": "code",
   "execution_count": null,
   "outputs": [],
   "source": [
    "plot_mnist_eval(trainer.eval_progress)"
   ],
   "metadata": {
    "collapsed": false
   }
  }
 ],
 "metadata": {
  "kernelspec": {
   "display_name": "Python 3",
   "language": "python",
   "name": "python3"
  },
  "language_info": {
   "codemirror_mode": {
    "name": "ipython",
    "version": 2
   },
   "file_extension": ".py",
   "mimetype": "text/x-python",
   "name": "python",
   "nbconvert_exporter": "python",
   "pygments_lexer": "ipython2",
   "version": "2.7.6"
  }
 },
 "nbformat": 4,
 "nbformat_minor": 0
}
