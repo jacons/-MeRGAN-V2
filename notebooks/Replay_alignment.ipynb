{
 "nbformat": 4,
 "nbformat_minor": 0,
 "metadata": {
  "colab": {
   "provenance": [],
   "gpuType": "T4"
  },
  "kernelspec": {
   "name": "python3",
   "language": "python",
   "display_name": "Python 3 (ipykernel)"
  },
  "language_info": {
   "name": "python"
  },
  "accelerator": "GPU",
  "gpuClass": "standard"
 },
 "cells": [
  {
   "cell_type": "markdown",
   "source": [
    "> **University of Pisa** \\\n",
    "> **M.Sc. Computer Science, Artificial Intelligence** \\\n",
    "> **Continual learning 2022/23** \\\n",
    "> **Authors**\n",
    "* Andrea Iommi - a.iommi2@studenti.unipi.it\n",
    "\n",
    "# Memory Replay GANs\n",
    "# Learning to generate images from new categories without forgetting\n",
    "#### [(original paper)](https://proceedings.neurips.cc/paper/2018/hash/a57e8915461b83adefb011530b711704-Abstract.html)\n",
    "### Notebooks\n",
    "*   Classical acGAN in offline settings\n",
    "*   Classical acGAN in online settings\n",
    "*   acGAN with join retrain\n",
    "*   **acGAN with replay alignment**\n"
   ],
   "metadata": {
    "collapsed": false
   }
  },
  {
   "cell_type": "code",
   "source": [
    "import torch\n",
    "from Trainer import Trainer\n",
    "from Utils import custom_mnist\n",
    "from Plot_functions import generate_classes, plot_history"
   ],
   "metadata": {
    "id": "EDbXMkvPSV94"
   },
   "execution_count": null,
   "outputs": []
  },
  {
   "cell_type": "code",
   "source": [
    "config = dict(\n",
    "    device=\"cuda\" if torch.cuda.is_available() else \"cpu\",\n",
    "    num_classes=10,\n",
    "    img_size=32,\n",
    "    channels=1,\n",
    "    n_epochs=[100,150],\n",
    "    batch_size=32,\n",
    "    embedding=100, # latent dimension of embedding\n",
    "    lr_g=7e-5, # Learning rate for generator 7e-5\n",
    "    lr_d=7e-5 # Learning rate for discriminator\n",
    ")"
   ],
   "metadata": {
    "id": "fjZ-77A9SYIj"
   },
   "execution_count": null,
   "outputs": []
  },
  {
   "cell_type": "markdown",
   "source": [
    "## acGAN with replay alignment (training)\n",
    "We create the acGAN with the replay alignment, the architecture is very similar to the classical acGAN, in fact, the model learns only with the current experience. However, in this implementation, we added new loss added, the **replay alignment**.\n",
    "\n",
    "The behavior is the following: in the first experience, the model learns as a classical acGAN. Starting from the second experience, the generator wants to optimize not only the adversarial and auxiliary loss, but **also minimize the L2 of difference between the current generator and the previous one** (experience) in the past classes."
   ],
   "metadata": {
    "collapsed": false
   }
  },
  {
   "cell_type": "code",
   "source": [
    "experiences = [[0,1,2,3,4],[5,6,7,8,9]]\n",
    "trainer = Trainer(config=config)\n",
    "history = trainer.fit_replay_alignment(experiences=custom_mnist(experiences = experiences))\n",
    "# we removed all training logs"
   ],
   "metadata": {
    "colab": {
     "base_uri": "https://localhost:8080/"
    },
    "id": "dq-glhlOSZiq",
    "outputId": "bad09146-ee6f-4d4d-ddba-55753704e543"
   },
   "execution_count": null,
   "outputs": []
  },
  {
   "cell_type": "markdown",
   "source": [
    "## Loss functions and Accuracy\n",
    "\n",
    "The charts below represent the loss function for both Generator and Discriminator. On the right there is the accuracy, also in this way the accuracy is performed only with the current classes."
   ],
   "metadata": {
    "collapsed": false
   }
  },
  {
   "cell_type": "code",
   "source": [
    "plot_history(history)"
   ],
   "metadata": {
    "colab": {
     "base_uri": "https://localhost:8080/",
     "height": 689
    },
    "id": "aUqtkVMXScos",
    "outputId": "a099125a-d5c6-43a2-aec7-781005c48698"
   },
   "execution_count": null,
   "outputs": []
  },
  {
   "cell_type": "markdown",
   "source": [],
   "metadata": {
    "collapsed": false
   }
  },
  {
   "cell_type": "markdown",
   "source": [
    "## Evaluate the architecture\n",
    "\n",
    "As we can see, the model is able to generate quite well all digits even if it encountered them in distinct experiences.\n",
    "For this specific execution, we notice that the first digits are represented better respect to the last ones. This could be caused by the value of constant in the *replay alignment loss* which leverages the regularization."
   ],
   "metadata": {
    "collapsed": false
   }
  },
  {
   "cell_type": "code",
   "source": [
    "generate_classes(trainer.generator, config[\"num_classes\"], rows=10, device=config[\"device\"])"
   ],
   "metadata": {
    "colab": {
     "base_uri": "https://localhost:8080/",
     "height": 614
    },
    "id": "tw7_2xWRSa-6",
    "outputId": "313a55e6-6084-4b42-b16a-1167cbfe2278"
   },
   "execution_count": null,
   "outputs": []
  }
 ]
}
