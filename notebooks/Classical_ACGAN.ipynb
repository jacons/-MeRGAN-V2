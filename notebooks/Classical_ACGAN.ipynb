{
 "cells": [
  {
   "cell_type": "code",
   "execution_count": null,
   "outputs": [],
   "source": [
    "from Trainer import Trainer\n",
    "from Utils import custom_mnist\n",
    "from Plot_functions import generate_classes, plot_history\n",
    "\n",
    "import  torch\n",
    "%reload_ext autoreload\n",
    "%autoreload 2\n",
    "\n",
    "config = dict(\n",
    "    device=\"cuda\" if torch.cuda.is_available() else \"cpu\",\n",
    "    num_classes=10,\n",
    "    img_size=32,\n",
    "    embedding=100,\n",
    "\n",
    "    n_epochs=10,\n",
    "    lr_g=0.0002,\n",
    "    lr_d=0.0002\n",
    ")\n",
    "\n",
    "experiences = [[0,1,2,3,4,5,6,7,8,9]]\n",
    "trainer = Trainer(config=config)\n",
    "history = trainer.fit_classic(experiences=custom_mnist(experiences = experiences),\n",
    "                              batch_size=64)"
   ],
   "metadata": {
    "collapsed": false
   }
  },
  {
   "cell_type": "code",
   "execution_count": null,
   "outputs": [],
   "source": [
    "generate_classes(trainer.generator, 10, 2, \"cuda\")"
   ],
   "metadata": {
    "collapsed": false
   }
  },
  {
   "cell_type": "code",
   "execution_count": null,
   "outputs": [],
   "source": [
    "plot_history(history)"
   ],
   "metadata": {
    "collapsed": false
   }
  }
 ],
 "metadata": {
  "kernelspec": {
   "display_name": "Python 3",
   "language": "python",
   "name": "python3"
  },
  "language_info": {
   "codemirror_mode": {
    "name": "ipython",
    "version": 2
   },
   "file_extension": ".py",
   "mimetype": "text/x-python",
   "name": "python",
   "nbconvert_exporter": "python",
   "pygments_lexer": "ipython2",
   "version": "2.7.6"
  }
 },
 "nbformat": 4,
 "nbformat_minor": 0
}
